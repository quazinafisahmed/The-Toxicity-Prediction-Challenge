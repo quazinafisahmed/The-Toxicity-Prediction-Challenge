{
 "cells": [
  {
   "cell_type": "code",
   "execution_count": 1,
   "id": "090d1dea",
   "metadata": {},
   "outputs": [],
   "source": [
    "import numpy as np\n",
    "import pandas as pd \n",
    "from rdkit import Chem\n",
    "from rdkit.Chem import Descriptors\n",
    "from rdkit.Chem import AllChem\n",
    "from rdkit import DataStructs\n",
    "from rdkit.Chem import rdMolDescriptors\n",
    "import rdkit.Chem as Chem\n",
    "import numpy as np\n",
    "import matplotlib.pyplot as plt\n",
    "import pandas as pd\n",
    "from sklearn.ensemble import RandomForestClassifier\n",
    "from sklearn.metrics import accuracy_score\n",
    "from sklearn.ensemble import RandomForestClassifier\n",
    "from sklearn.model_selection import GridSearchCV\n",
    "from sklearn.preprocessing import MinMaxScaler\n",
    "from sklearn.model_selection import cross_val_score, KFold\n",
    "from sklearn.pipeline import Pipeline\n",
    "from sklearn.compose import ColumnTransformer\n",
    "from sklearn.ensemble import HistGradientBoostingClassifier\n",
    "from mordred import Calculator, descriptors\n",
    "from sklearn.feature_selection import VarianceThreshold\n",
    "from sklearn.metrics import make_scorer, f1_score\n",
    "from sklearn.model_selection import cross_val_score\n",
    "from sklearn.preprocessing import StandardScaler\n",
    "import matplotlib.pyplot as plt\n",
    "import xgboost as xgb\n",
    "from sklearn.model_selection import KFold\n",
    "from sklearn.ensemble import RandomForestRegressor\n",
    "from sklearn.decomposition import PCA\n",
    "from sklearn.model_selection import train_test_split\n",
    "from sklearn.ensemble import GradientBoostingClassifier\n",
    "from sklearn.feature_selection import SelectFromModel\n",
    "from sklearn.feature_selection import RFE\n",
    "from sklearn.linear_model import LinearRegression\n",
    "from xgboost import XGBClassifier\n",
    "from sklearn.metrics import f1_score\n",
    "from hyperopt import STATUS_OK, Trials, fmin, hp, tpe\n",
    "from imblearn.over_sampling import SMOTE"
   ]
  },
  {
   "cell_type": "code",
   "execution_count": 2,
   "id": "8becdb20",
   "metadata": {},
   "outputs": [],
   "source": [
    "test_data = pd.read_csv('test_II.csv')\n",
    "train_data = pd.read_csv('train_II.csv')\n",
    "desc_df = pd.read_csv('descriptorsfromrdkitv1.csv')\n",
    "test_desc_df = pd.read_csv('testdescriptors.csv')"
   ]
  },
  {
   "cell_type": "code",
   "execution_count": 3,
   "id": "f161007b",
   "metadata": {},
   "outputs": [],
   "source": [
    "train_data[['Chemical ID', 'Assay ID']] = train_data['Id'].str.split(';', expand=True)\n"
   ]
  },
  {
   "cell_type": "code",
   "execution_count": 4,
   "id": "f456c747",
   "metadata": {},
   "outputs": [],
   "source": [
    "train_data = train_data.drop('Id', axis=1)"
   ]
  },
  {
   "cell_type": "code",
   "execution_count": 5,
   "id": "472a6c6d",
   "metadata": {},
   "outputs": [],
   "source": [
    "train_data = train_data.rename(columns={'Expected': 'Label'})\n"
   ]
  },
  {
   "cell_type": "code",
   "execution_count": 6,
   "id": "ce8f95ee",
   "metadata": {},
   "outputs": [],
   "source": [
    "# Create a list to store the SMILES strings that do not cause an error\n",
    "valid_smiles = []\n",
    "\n",
    "# Iterate over the \"Chemical ID\" column and store only the valid SMILES strings\n",
    "for smiles in train_data[\"Chemical ID\"]:\n",
    "    try:\n",
    "        mols = Chem.MolFromSmiles(smiles, sanitize=False)\n",
    "        if mols is not None:\n",
    "            valid_smiles.append(smiles)\n",
    "    except:\n",
    "        continue\n",
    "\n",
    "# Filter the DataFrame to only include rows with valid SMILES strings\n",
    "train_data = train_data[train_data[\"Chemical ID\"].isin(valid_smiles)]\n"
   ]
  },
  {
   "cell_type": "code",
   "execution_count": 7,
   "id": "ce87227b",
   "metadata": {},
   "outputs": [
    {
     "name": "stderr",
     "output_type": "stream",
     "text": [
      "[01:00:47] Explicit valence for atom # 1 Si, 8, is greater than permitted\n",
      "[01:00:48] Explicit valence for atom # 1 Si, 8, is greater than permitted\n",
      "[01:00:50] Explicit valence for atom # 1 Si, 8, is greater than permitted\n",
      "[01:00:51] Explicit valence for atom # 1 Si, 8, is greater than permitted\n",
      "[01:00:52] Explicit valence for atom # 1 Si, 8, is greater than permitted\n",
      "[01:00:53] Explicit valence for atom # 1 Si, 8, is greater than permitted\n"
     ]
    }
   ],
   "source": [
    "train_data['mols'] = train_data['Chemical ID'].apply(lambda x: Chem.MolFromSmiles(x))"
   ]
  },
  {
   "cell_type": "code",
   "execution_count": 8,
   "id": "c78d699a",
   "metadata": {},
   "outputs": [],
   "source": [
    "train_data = train_data.dropna(subset=['mols'])"
   ]
  },
  {
   "cell_type": "code",
   "execution_count": 9,
   "id": "5a8b7b85",
   "metadata": {},
   "outputs": [],
   "source": [
    "test_data[['Chemical ID', 'Assay ID']] = test_data['x'].str.split(';', expand=True)"
   ]
  },
  {
   "cell_type": "code",
   "execution_count": 10,
   "id": "d95186cf",
   "metadata": {},
   "outputs": [],
   "source": [
    "test_data = test_data.drop('x', axis=1)"
   ]
  },
  {
   "cell_type": "code",
   "execution_count": 11,
   "id": "eedce496",
   "metadata": {},
   "outputs": [],
   "source": [
    "# Create a list to store the SMILES strings that do not cause an error\n",
    "valid_smiles = []\n",
    "\n",
    "# Iterate over the \"Chemical ID\" column and store only the valid SMILES strings\n",
    "for smiles in test_data[\"Chemical ID\"]:\n",
    "    try:\n",
    "        mols = Chem.MolFromSmiles(smiles, sanitize=False)\n",
    "        if mols is not None:\n",
    "            valid_smiles.append(smiles)\n",
    "    except:\n",
    "        continue\n",
    "\n",
    "# Filter the DataFrame to only include rows with valid SMILES strings\n",
    "test_data = test_data[test_data[\"Chemical ID\"].isin(valid_smiles)]"
   ]
  },
  {
   "cell_type": "code",
   "execution_count": 12,
   "id": "f0c4c742",
   "metadata": {},
   "outputs": [],
   "source": [
    "test_data['mols'] = test_data['Chemical ID'].apply(lambda x: Chem.MolFromSmiles(x))"
   ]
  },
  {
   "cell_type": "code",
   "execution_count": 13,
   "id": "9f572237",
   "metadata": {},
   "outputs": [],
   "source": [
    "desc_df.columns = desc_df.columns.astype(str)\n",
    "\n",
    "# Replace NaN and infinity values with the mean of the column\n",
    "desc_df.replace([np.inf, -np.inf], np.nan, inplace=True)\n",
    "# Select only the numeric columns\n",
    "numeric_cols = desc_df.select_dtypes(include=np.number).columns\n",
    "\n",
    "# Apply fillna() to the selected numeric columns\n",
    "desc_df[numeric_cols] = desc_df[numeric_cols].fillna(desc_df[numeric_cols].median())\n"
   ]
  },
  {
   "cell_type": "code",
   "execution_count": 14,
   "id": "17ed4b01",
   "metadata": {},
   "outputs": [],
   "source": [
    "# Get the fingerprints, assay ID, and labels from the dataframe\n",
    "train_assay_id = np.array(train_data['Assay ID'].values).reshape(-1, 1)\n",
    "y_tr = train_data['Label'].to_numpy()"
   ]
  },
  {
   "cell_type": "code",
   "execution_count": 15,
   "id": "fae90ac0",
   "metadata": {},
   "outputs": [],
   "source": [
    "test_desc_df.columns = test_desc_df.columns.astype(str)\n",
    "\n",
    "# Replace NaN and infinity values with the mean of the column\n",
    "test_desc_df.replace([np.inf, -np.inf], np.nan, inplace=True)\n",
    "# Select only the numeric columns\n",
    "numeric_cols = test_desc_df.select_dtypes(include=np.number).columns\n",
    "\n",
    "# Apply fillna() to the selected numeric columns\n",
    "test_desc_df[numeric_cols] = test_desc_df[numeric_cols].fillna(test_desc_df[numeric_cols].median())\n"
   ]
  },
  {
   "cell_type": "code",
   "execution_count": 16,
   "id": "5a753cfe",
   "metadata": {},
   "outputs": [],
   "source": [
    "test_assay_id = np.array(test_data['Assay ID'].values).reshape(-1, 1)"
   ]
  },
  {
   "cell_type": "code",
   "execution_count": 17,
   "id": "9373b31a",
   "metadata": {},
   "outputs": [],
   "source": [
    "xgb = XGBClassifier(n_estimators=1050)"
   ]
  },
  {
   "cell_type": "code",
   "execution_count": 18,
   "id": "fce2e607",
   "metadata": {},
   "outputs": [],
   "source": [
    "X_tr = np.concatenate((train_assay_id, desc_df[['Ipc', 'BertzCT', 'MolWt', 'ExactMolWt', 'HeavyAtomMolWt', 'TPSA', 'LabuteASA', 'NumValenceElectrons', 'EState_VSA1', 'MolMR', 'VSA_EState3', 'SMR_VSA1', 'SlogP_VSA2', 'PEOE_VSA1', 'SlogP_VSA11', 'SMR_VSA9', 'PEOE_VSA11', 'EState_VSA10', 'SMR_VSA7', 'VSA_EState2', 'EState_VSA3', 'HeavyAtomCount', 'SlogP_VSA6', 'PEOE_VSA7', 'SlogP_VSA5', 'Chi0', 'Kappa1', 'VSA_EState5', 'PEOE_VSA14', 'Chi0n', 'Chi1', 'Chi0v', 'VSA_EState1', 'PEOE_VSA9', 'PEOE_VSA3', 'NumHAcceptors', 'NOCount', 'NumHeteroatoms', 'SMR_VSA10', 'EState_VSA9', 'PEOE_VSA12', 'Chi1n', 'Kappa2', 'Chi1v', 'PEOE_VSA6', 'fr_phenol_noOrthoHbond', 'fr_phenol', 'fr_Ar_OH', 'NumHDonors', 'NHOHCount', 'Chi2n', 'Chi2v', 'SlogP_VSA3', 'SlogP_VSA1', 'NumRotatableBonds', 'HallKierAlpha', 'VSA_EState7', 'EState_VSA11', 'Chi3n', 'Chi3v', 'EState_VSA8', 'EState_VSA7', 'EState_VSA2', 'EState_VSA5', 'EState_VSA4', 'PEOE_VSA8', 'VSA_EState4', 'Kappa3', 'fr_ether', 'BCUT2D_MWHI', 'EState_VSA6', 'SlogP_VSA12', 'fr_ester', 'fr_C_O_noCOO', 'RingCount', 'fr_C_O', 'fr_benzene', 'NumAromaticCarbocycles', 'Chi4n', 'NumAromaticRings', 'Chi4v', 'PEOE_VSA10', 'MaxAbsEStateIndex', 'SMR_VSA5', 'SlogP_VSA10', 'SlogP_VSA4', 'VSA_EState8', 'SMR_VSA3', 'PEOE_VSA2', 'VSA_EState10', 'SMR_VSA6', 'PEOE_VSA4', 'VSA_EState6', 'SMR_VSA4', 'MolLogP', 'SlogP_VSA8', 'PEOE_VSA5', 'MinEStateIndex', 'SlogP_VSA7', 'PEOE_VSA13', 'FpDensityMorgan3', 'BalabanJ', 'FpDensityMorgan2', 'fr_halogen', 'fr_NH0']]), axis=1) \n",
    "X_te = np.concatenate((test_assay_id, test_desc_df[['Ipc', 'BertzCT', 'MolWt', 'ExactMolWt', 'HeavyAtomMolWt', 'TPSA', 'LabuteASA', 'NumValenceElectrons', 'EState_VSA1', 'MolMR', 'VSA_EState3', 'SMR_VSA1', 'SlogP_VSA2', 'PEOE_VSA1', 'SlogP_VSA11', 'SMR_VSA9', 'PEOE_VSA11', 'EState_VSA10', 'SMR_VSA7', 'VSA_EState2', 'EState_VSA3', 'HeavyAtomCount', 'SlogP_VSA6', 'PEOE_VSA7', 'SlogP_VSA5', 'Chi0', 'Kappa1', 'VSA_EState5', 'PEOE_VSA14', 'Chi0n', 'Chi1', 'Chi0v', 'VSA_EState1', 'PEOE_VSA9', 'PEOE_VSA3', 'NumHAcceptors', 'NOCount', 'NumHeteroatoms', 'SMR_VSA10', 'EState_VSA9', 'PEOE_VSA12', 'Chi1n', 'Kappa2', 'Chi1v', 'PEOE_VSA6', 'fr_phenol_noOrthoHbond', 'fr_phenol', 'fr_Ar_OH', 'NumHDonors', 'NHOHCount', 'Chi2n', 'Chi2v', 'SlogP_VSA3', 'SlogP_VSA1', 'NumRotatableBonds', 'HallKierAlpha', 'VSA_EState7', 'EState_VSA11', 'Chi3n', 'Chi3v', 'EState_VSA8', 'EState_VSA7', 'EState_VSA2', 'EState_VSA5', 'EState_VSA4', 'PEOE_VSA8', 'VSA_EState4', 'Kappa3', 'fr_ether', 'BCUT2D_MWHI', 'EState_VSA6', 'SlogP_VSA12', 'fr_ester', 'fr_C_O_noCOO', 'RingCount', 'fr_C_O', 'fr_benzene', 'NumAromaticCarbocycles', 'Chi4n', 'NumAromaticRings', 'Chi4v', 'PEOE_VSA10', 'MaxAbsEStateIndex', 'SMR_VSA5', 'SlogP_VSA10', 'SlogP_VSA4', 'VSA_EState8', 'SMR_VSA3', 'PEOE_VSA2', 'VSA_EState10', 'SMR_VSA6', 'PEOE_VSA4', 'VSA_EState6', 'SMR_VSA4', 'MolLogP', 'SlogP_VSA8', 'PEOE_VSA5', 'MinEStateIndex', 'SlogP_VSA7', 'PEOE_VSA13', 'FpDensityMorgan3', 'BalabanJ', 'FpDensityMorgan2', 'fr_halogen', 'fr_NH0']]), axis=1)"
   ]
  },
  {
   "cell_type": "code",
   "execution_count": 19,
   "id": "2ff484d9",
   "metadata": {},
   "outputs": [],
   "source": [
    "y_tr[y_tr == 2] = 0\n",
    "y_tr[y_tr == 1] = 1"
   ]
  },
  {
   "cell_type": "code",
   "execution_count": 20,
   "id": "fe96b47e",
   "metadata": {},
   "outputs": [
    {
     "data": {
      "text/plain": [
       "XGBClassifier(base_score=None, booster=None, callbacks=None,\n",
       "              colsample_bylevel=None, colsample_bynode=None,\n",
       "              colsample_bytree=None, early_stopping_rounds=None,\n",
       "              enable_categorical=False, eval_metric=None, feature_types=None,\n",
       "              gamma=None, gpu_id=None, grow_policy=None, importance_type=None,\n",
       "              interaction_constraints=None, learning_rate=None, max_bin=None,\n",
       "              max_cat_threshold=None, max_cat_to_onehot=None,\n",
       "              max_delta_step=None, max_depth=None, max_leaves=None,\n",
       "              min_child_weight=None, missing=nan, monotone_constraints=None,\n",
       "              n_estimators=1050, n_jobs=None, num_parallel_tree=None,\n",
       "              predictor=None, random_state=None, ...)"
      ]
     },
     "execution_count": 20,
     "metadata": {},
     "output_type": "execute_result"
    }
   ],
   "source": [
    "xgb.fit(X_tr, y_tr)"
   ]
  },
  {
   "cell_type": "code",
   "execution_count": 21,
   "id": "8365b4ef",
   "metadata": {},
   "outputs": [],
   "source": [
    "Z_pred = xgb.predict(X_te)"
   ]
  },
  {
   "cell_type": "code",
   "execution_count": 23,
   "id": "b90b7b4d",
   "metadata": {},
   "outputs": [],
   "source": [
    "Z_pred[Z_pred == 0] = 2\n",
    "Z_pred[Z_pred == 1] = 1"
   ]
  },
  {
   "cell_type": "code",
   "execution_count": 24,
   "id": "d4736331",
   "metadata": {},
   "outputs": [],
   "source": [
    "# Combine the SMILES & Assay ID into a single column\n",
    "test_data['Id'] = test_data['Chemical ID'] + ';' + test_data['Assay ID'].astype(str)\n",
    "\n",
    "# Create a new dataframe with the Id and Predicted columns\n",
    "result_data = pd.DataFrame({'Id': test_data['Id'], 'Predicted': Z_pred})\n",
    "\n",
    "# Save the result data to a csv file\n",
    "result_data.to_csv('Submission File.csv', index=False)"
   ]
  }
 ],
 "metadata": {
  "kernelspec": {
   "display_name": "Python 3 (ipykernel)",
   "language": "python",
   "name": "python3"
  },
  "language_info": {
   "codemirror_mode": {
    "name": "ipython",
    "version": 3
   },
   "file_extension": ".py",
   "mimetype": "text/x-python",
   "name": "python",
   "nbconvert_exporter": "python",
   "pygments_lexer": "ipython3",
   "version": "3.9.13"
  }
 },
 "nbformat": 4,
 "nbformat_minor": 5
}
